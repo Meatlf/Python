{
 "cells": [
  {
   "cell_type": "markdown",
   "metadata": {},
   "source": [
    "# Contours\n",
    "## 概念\n",
    "凸包\n",
    "## 说明\n",
    "1)img.copy(),建立img副本，之后的操作在副本上进行，而对img无影响；\n",
    "## 参考资料\n",
    "[1] opencv-python-tutorials.pdf  \n",
    "[2] [OpenCV入门之寻找图像的凸包（convex hull）](https://www.cnblogs.com/jclian91/p/9728488.html)"
   ]
  },
  {
   "cell_type": "code",
   "execution_count": 1,
   "metadata": {},
   "outputs": [],
   "source": [
    "import numpy as np\n",
    "import cv2\n",
    "import matplotlib.pylab as plt"
   ]
  },
  {
   "cell_type": "code",
   "execution_count": 2,
   "metadata": {},
   "outputs": [],
   "source": [
    "# 新建512*512的空白图片\n",
    "img = np.zeros((512,512,3), np.uint8)\n",
    "# 平面点集\n",
    "pts = np.array([[200,250],[250,300],[300,270],[270,200],[120,240]],np.int32)\n",
    "pts = pts.reshape((-1,1,2))\n",
    "# 绘制填充的多边形\n",
    "cv2.fillPoly(img,[pts],(255,255,255))\n",
    "# 保存图片\n",
    "cv2.imwrite('polygon.png',img)\n",
    "imgray = cv2.cvtColor(img,cv2.COLOR_BGR2GRAY)\n",
    "ret,thresh = cv2.threshold(imgray,127,255,0)\n",
    "contours,hierarchy = cv2.findContours(thresh,cv2.RETR_TREE,cv2.CHAIN_APPROX_SIMPLE)"
   ]
  },
  {
   "cell_type": "markdown",
   "metadata": {},
   "source": [
    "## 画出指定索引的轮廓"
   ]
  },
  {
   "cell_type": "code",
   "execution_count": 3,
   "metadata": {},
   "outputs": [
    {
     "data": {
      "text/plain": [
       "<matplotlib.image.AxesImage at 0x7fc0414b5850>"
      ]
     },
     "execution_count": 3,
     "metadata": {},
     "output_type": "execute_result"
    },
    {
     "data": {
      "image/png": "[encoded data removed]",
      "text/plain": [
       "<Figure size 432x288 with 1 Axes>"
      ]
     },
     "metadata": {
      "needs_background": "light"
     },
     "output_type": "display_data"
    }
   ],
   "source": [
    "cnt = contours[0]\n",
    "dstImg=cv2.drawContours(img.copy(), [cnt], -1, (0,255,0), 3)\n",
    "plt.imshow(dstImg,'gray')"
   ]
  },
  {
   "cell_type": "markdown",
   "metadata": {},
   "source": [
    "## 画出所有轮廓"
   ]
  },
  {
   "cell_type": "code",
   "execution_count": 4,
   "metadata": {},
   "outputs": [
    {
     "data": {
      "text/plain": [
       "<matplotlib.image.AxesImage at 0x7fc03db41190>"
      ]
     },
     "execution_count": 4,
     "metadata": {},
     "output_type": "execute_result"
    },
    {
     "data": {
      "image/png": "[encoded data removed]",
      "text/plain": [
       "<Figure size 432x288 with 1 Axes>"
      ]
     },
     "metadata": {
      "needs_background": "light"
     },
     "output_type": "display_data"
    }
   ],
   "source": [
    "allContours=cv2.drawContours(img.copy(), contours, -1, (0,255,0), 3)\n",
    "plt.imshow(allContours,'gray')"
   ]
  },
  {
   "cell_type": "code",
   "execution_count": 5,
   "metadata": {},
   "outputs": [
    {
     "data": {
      "text/plain": [
       "<matplotlib.image.AxesImage at 0x7fc03daae990>"
      ]
     },
     "execution_count": 5,
     "metadata": {},
     "output_type": "execute_result"
    },
    {
     "data": {
      "image/png": "[encoded data removed]",
      "text/plain": [
       "<Figure size 432x288 with 1 Axes>"
      ]
     },
     "metadata": {
      "needs_background": "light"
     },
     "output_type": "display_data"
    }
   ],
   "source": [
    "plt.imshow(img,'gray')"
   ]
  },
  {
   "cell_type": "code",
   "execution_count": 6,
   "metadata": {},
   "outputs": [
    {
     "name": "stdout",
     "output_type": "stream",
     "text": [
      "1\n"
     ]
    },
    {
     "data": {
      "text/plain": [
       "<matplotlib.image.AxesImage at 0x7fc03da98d50>"
      ]
     },
     "execution_count": 6,
     "metadata": {},
     "output_type": "execute_result"
    },
    {
     "data": {
      "image/png": "[encoded data removed]",
      "text/plain": [
       "<Figure size 432x288 with 1 Axes>"
      ]
     },
     "metadata": {
      "needs_background": "light"
     },
     "output_type": "display_data"
    }
   ],
   "source": [
    "length = len(contours)\n",
    "print(length)\n",
    "for i in range(length):\n",
    "    cnt = contours[i]\n",
    "    epsilon = 0.001 * cv2.arcLength(cnt,True)\n",
    "    approx = cv2.approxPolyDP(cnt, epsilon, True)\n",
    "    # cv2.drawContours(img, approx, -1, (0, 0, 255), 3)\n",
    "    polylinesImg = cv2.polylines(img, [approx], True, (0, 0, 255), 2)\n",
    "plt.imshow(polylinesImg)"
   ]
  },
  {
   "cell_type": "code",
   "execution_count": 7,
   "metadata": {},
   "outputs": [],
   "source": [
    "img=cv2.imread('polygon.png',1)"
   ]
  },
  {
   "cell_type": "code",
   "execution_count": 8,
   "metadata": {},
   "outputs": [
    {
     "data": {
      "text/plain": [
       "<matplotlib.image.AxesImage at 0x7fc03d9fbd10>"
      ]
     },
     "execution_count": 8,
     "metadata": {},
     "output_type": "execute_result"
    },
    {
     "data": {
      "image/png": "[encoded data removed]",
      "text/plain": [
       "<Figure size 432x288 with 1 Axes>"
      ]
     },
     "metadata": {
      "needs_background": "light"
     },
     "output_type": "display_data"
    }
   ],
   "source": [
    "plt.imshow(img)"
   ]
  },
  {
   "cell_type": "markdown",
   "metadata": {},
   "source": [
    "## 寻找凸包并绘制凸包（轮廓）"
   ]
  },
  {
   "cell_type": "code",
   "execution_count": 9,
   "metadata": {},
   "outputs": [
    {
     "name": "stdout",
     "output_type": "stream",
     "text": [
      "[[[300 270]]\n",
      "\n",
      " [[299 271]]\n",
      "\n",
      " [[254 298]]\n",
      "\n",
      " [[250 300]]\n",
      "\n",
      " [[120 240]]\n",
      "\n",
      " [[122 239]]\n",
      "\n",
      " [[257 203]]\n",
      "\n",
      " [[269 200]]\n",
      "\n",
      " [[270 200]]\n",
      "\n",
      " [[273 206]]\n",
      "\n",
      " [[300 269]]]\n"
     ]
    },
    {
     "data": {
      "text/plain": [
       "<matplotlib.image.AxesImage at 0x7fc03d96d790>"
      ]
     },
     "execution_count": 9,
     "metadata": {},
     "output_type": "execute_result"
    },
    {
     "data": {
      "image/png": "[encoded data removed]",
      "text/plain": [
       "<Figure size 432x288 with 1 Axes>"
      ]
     },
     "metadata": {
      "needs_background": "light"
     },
     "output_type": "display_data"
    }
   ],
   "source": [
    "contours, hierarchy = cv2.findContours(thresh, 2, 1)\n",
    "cnt = contours[0]\n",
    "# 寻找凸包并绘制凸包（轮廓）\n",
    "hull = cv2.convexHull(cnt)\n",
    "print(hull)\n",
    "\n",
    "length = len(hull)\n",
    "for i in range(len(hull)):\n",
    "    cv2.line(img, tuple(hull[i][0]), tuple(hull[(i+1)%length][0]), (0,255,0), 2)\n",
    "\n",
    "# 显示图片\n",
    "plt.imshow(img)"
   ]
  },
  {
   "cell_type": "code",
   "execution_count": 10,
   "metadata": {},
   "outputs": [
    {
     "data": {
      "text/plain": [
       "<matplotlib.image.AxesImage at 0x7fc03d95c390>"
      ]
     },
     "execution_count": 10,
     "metadata": {},
     "output_type": "execute_result"
    },
    {
     "data": {
      "image/png": "[encoded data removed]",
      "text/plain": [
       "<Figure size 432x288 with 1 Axes>"
      ]
     },
     "metadata": {
      "needs_background": "light"
     },
     "output_type": "display_data"
    }
   ],
   "source": [
    "# 读取图片并转至灰度模式\n",
    "imagepath = 'finger.png'\n",
    "img = cv2.imread(imagepath, 1)\n",
    "gray = cv2.cvtColor(img, cv2.COLOR_BGR2GRAY)\n",
    "\n",
    "# 二值化，取阈值为235\n",
    "ret, thresh = cv2.threshold(gray, 235, 255, cv2.THRESH_BINARY)\n",
    "\n",
    "# 寻找图像中的轮廓\n",
    "contours, hierarchy = cv2.findContours(thresh, 2, 1)\n",
    "\n",
    "# 寻找物体的凸包并绘制凸包的轮廓\n",
    "for cnt in contours:\n",
    "    hull = cv2.convexHull(cnt)\n",
    "    length = len(hull)\n",
    "    # 如果凸包点集中的点个数大于5\n",
    "    if length > 5:\n",
    "        # 绘制图像凸包的轮廓\n",
    "        for i in range(length):\n",
    "            cv2.line(img, tuple(hull[i][0]), tuple(hull[(i+1)%length][0]), (0,0,255), 2)\n",
    "\n",
    "# 显示图片\n",
    "plt.imshow(img)"
   ]
  },
  {
   "cell_type": "code",
   "execution_count": null,
   "metadata": {},
   "outputs": [],
   "source": []
  }
 ],
 "metadata": {
  "kernelspec": {
   "display_name": "Python 3",
   "language": "python",
   "name": "python3"
  },
  "language_info": {
   "codemirror_mode": {
    "name": "ipython",
    "version": 3
   },
   "file_extension": ".py",
   "mimetype": "text/x-python",
   "name": "python",
   "nbconvert_exporter": "python",
   "pygments_lexer": "ipython3",
   "version": "3.7.4"
  }
 },
 "nbformat": 4,
 "nbformat_minor": 2
}
