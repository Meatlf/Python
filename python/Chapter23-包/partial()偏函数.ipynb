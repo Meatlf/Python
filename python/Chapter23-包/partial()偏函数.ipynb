{
 "cells": [
  {
   "cell_type": "markdown",
   "metadata": {},
   "source": [
    "# partial()偏函数\n",
    "## 参考资料\n",
    "[1] [Python偏函数](https://www.runoob.com/w3cnote/python-partial.html)  \n",
    "[2] [Partial Functions in Python\n",
    "P](https://www.geeksforgeeks.org/partial-functions-python/)  \n",
    "**Q**:如何理解`partial()`偏函数?  \n",
    "**A**:  \n",
    "1)函数在执行时，要带上所有必要的参数进行调用。但是，有些参数可以在函数被调用之前提前获知。这种情况下，一个函数有一个或多个参数预先就能用上，以便函数能用更少的参数进行调用。  \n",
    "2)偏函数是将所要承载的函数作为partial()函数的第一个参数，原函数的各个参数依次作为partial()函数后续的参数，除非使用关键字参数。\n",
    "\n",
    "**Q**:`partial()`的语法？  \n",
    "**A**:新的函数名 = partial(函数名,该函数的部分参数)  "
   ]
  },
  {
   "cell_type": "code",
   "execution_count": 1,
   "metadata": {},
   "outputs": [],
   "source": [
    "from functools import partial"
   ]
  },
  {
   "cell_type": "code",
   "execution_count": 2,
   "metadata": {},
   "outputs": [],
   "source": [
    "def mod(n, m):\n",
    "    return n % m"
   ]
  },
  {
   "cell_type": "code",
   "execution_count": 3,
   "metadata": {},
   "outputs": [],
   "source": [
    "mod_by_9 = partial(mod, 9)"
   ]
  },
  {
   "cell_type": "code",
   "execution_count": 4,
   "metadata": {},
   "outputs": [
    {
     "name": "stdout",
     "output_type": "stream",
     "text": [
      "2\n",
      "2\n"
     ]
    }
   ],
   "source": [
    "print(mod(9, 7))\n",
    "print(mod_by_9(7))"
   ]
  },
  {
   "cell_type": "code",
   "execution_count": 5,
   "metadata": {},
   "outputs": [],
   "source": [
    "bin2dec = partial(int, base = 2)"
   ]
  },
  {
   "cell_type": "code",
   "execution_count": 6,
   "metadata": {},
   "outputs": [
    {
     "name": "stdout",
     "output_type": "stream",
     "text": [
      "9\n",
      "17\n"
     ]
    }
   ],
   "source": [
    "print(bin2dec('0b1001'))\n",
    "print(bin2dec('10001'))"
   ]
  },
  {
   "cell_type": "code",
   "execution_count": 7,
   "metadata": {
    "scrolled": true
   },
   "outputs": [
    {
     "name": "stdout",
     "output_type": "stream",
     "text": [
      "103\n",
      "103\n"
     ]
    }
   ],
   "source": [
    "hex2dec = partial(int, base=16)\n",
    "print(hex2dec('0x67'))\n",
    "print(hex2dec('67'))"
   ]
  },
  {
   "cell_type": "code",
   "execution_count": 8,
   "metadata": {},
   "outputs": [
    {
     "name": "stdout",
     "output_type": "stream",
     "text": [
      "3145\n"
     ]
    }
   ],
   "source": [
    "# A normal function \n",
    "def f(a, b, c, x): \n",
    "    return 1000*a + 100*b + 10*c + x \n",
    "  \n",
    "# A partial function that calls f with \n",
    "# a as 3, b as 1 and c as 4. \n",
    "g = partial(f, 3, 1, 4) \n",
    "  \n",
    "# Calling g() \n",
    "print(g(5))"
   ]
  }
 ],
 "metadata": {
  "kernelspec": {
   "display_name": "Python 3",
   "language": "python",
   "name": "python3"
  },
  "language_info": {
   "codemirror_mode": {
    "name": "ipython",
    "version": 3
   },
   "file_extension": ".py",
   "mimetype": "text/x-python",
   "name": "python",
   "nbconvert_exporter": "python",
   "pygments_lexer": "ipython3",
   "version": "3.7.4"
  }
 },
 "nbformat": 4,
 "nbformat_minor": 2
}
