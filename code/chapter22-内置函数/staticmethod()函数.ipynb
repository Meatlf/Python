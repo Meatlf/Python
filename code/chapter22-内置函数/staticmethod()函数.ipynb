{
 "cells": [
  {
   "cell_type": "markdown",
   "metadata": {},
   "source": [
    "## staticmethod()函数\n",
    "说明:静态方法使用类名就可以调用,而无需实例化后再调用方法"
   ]
  },
  {
   "cell_type": "code",
   "execution_count": 1,
   "metadata": {},
   "outputs": [
    {
     "name": "stdout",
     "output_type": "stream",
     "text": [
      "runoob\n",
      "runoob\n"
     ]
    }
   ],
   "source": [
    "class C(object):\n",
    "    @staticmethod\n",
    "    def f():\n",
    "        print('runoob');\n",
    " \n",
    "C.f();          # 静态方法无需实例化\n",
    "cobj = C()\n",
    "cobj.f()        # 也可以实例化后调用"
   ]
  },
  {
   "cell_type": "code",
   "execution_count": null,
   "metadata": {},
   "outputs": [],
   "source": []
  }
 ],
 "metadata": {
  "kernelspec": {
   "display_name": "Python 3",
   "language": "python",
   "name": "python3"
  },
  "language_info": {
   "codemirror_mode": {
    "name": "ipython",
    "version": 3
   },
   "file_extension": ".py",
   "mimetype": "text/x-python",
   "name": "python",
   "nbconvert_exporter": "python",
   "pygments_lexer": "ipython3",
   "version": "3.7.4"
  }
 },
 "nbformat": 4,
 "nbformat_minor": 2
}
