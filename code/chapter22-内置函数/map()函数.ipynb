{
 "cells": [
  {
   "cell_type": "markdown",
   "metadata": {},
   "source": [
    "# map()函数\n",
    "Q：如何理解map()函数?  \n",
    "A: map() 会根据提供的函数对指定序列做映射。\n",
    "### 参考资料\n",
    "[1] 运行map（）后，报：map object at 0x026427B0 解决方法与原因分析 https://blog.csdn.net/HHTNAN/article/details/72957278"
   ]
  },
  {
   "cell_type": "markdown",
   "metadata": {},
   "source": [
    "## map()和函数"
   ]
  },
  {
   "cell_type": "code",
   "execution_count": 1,
   "metadata": {},
   "outputs": [],
   "source": [
    "# 关于map()函数的helloworld\n",
    "def square(x): # 计算平方数\n",
    "    return x ** 2"
   ]
  },
  {
   "cell_type": "code",
   "execution_count": 2,
   "metadata": {},
   "outputs": [
    {
     "name": "stdout",
     "output_type": "stream",
     "text": [
      "[1, 4, 9, 16, 25]\n"
     ]
    }
   ],
   "source": [
    "squareMap = map(square, [1,2,3,4,5])\n",
    "print(list(squareMap))"
   ]
  },
  {
   "cell_type": "markdown",
   "metadata": {},
   "source": [
    "## map()和lambda匿名函数\n",
    "**map()的基本语法**:map(lambda 参数:运算式子,关于参数的列表)"
   ]
  },
  {
   "cell_type": "code",
   "execution_count": 3,
   "metadata": {},
   "outputs": [
    {
     "name": "stdout",
     "output_type": "stream",
     "text": [
      "[1, 4, 9, 16, 25]\n"
     ]
    }
   ],
   "source": [
    "results = map(lambda x: x ** 2, [1,2,3,4,5])\n",
    "print(list(results))"
   ]
  },
  {
   "cell_type": "code",
   "execution_count": 4,
   "metadata": {},
   "outputs": [],
   "source": [
    "# 如果函数有多个参数, 但每个参数的序列元素数量不一样, 会根据最少元素的序列进行：\n",
    "listx = [1,2,3]               # 3 个元素\n",
    "listy = [2,3,4,5,6,7]         # 6 个元素\n",
    "listz = [100,100,100,100]     # 4 个元素"
   ]
  },
  {
   "cell_type": "code",
   "execution_count": 5,
   "metadata": {},
   "outputs": [],
   "source": [
    "list_result = map(lambda x,y,z : x**2 + y + z,listx, listy, listz)"
   ]
  },
  {
   "cell_type": "code",
   "execution_count": 6,
   "metadata": {},
   "outputs": [
    {
     "name": "stdout",
     "output_type": "stream",
     "text": [
      "[103, 107, 113]\n"
     ]
    }
   ],
   "source": [
    "print(list(list_result))"
   ]
  },
  {
   "cell_type": "code",
   "execution_count": null,
   "metadata": {},
   "outputs": [],
   "source": []
  }
 ],
 "metadata": {
  "kernelspec": {
   "display_name": "Python 3",
   "language": "python",
   "name": "python3"
  },
  "language_info": {
   "codemirror_mode": {
    "name": "ipython",
    "version": 3
   },
   "file_extension": ".py",
   "mimetype": "text/x-python",
   "name": "python",
   "nbconvert_exporter": "python",
   "pygments_lexer": "ipython3",
   "version": "3.7.4"
  }
 },
 "nbformat": 4,
 "nbformat_minor": 2
}
