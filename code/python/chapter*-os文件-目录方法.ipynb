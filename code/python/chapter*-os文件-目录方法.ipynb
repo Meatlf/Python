{
 "cells": [
  {
   "cell_type": "markdown",
   "metadata": {},
   "source": [
    "# os文件/目录方法\n",
    "**小结**:os 模块提供了非常丰富的方法用来处理文件和目录。"
   ]
  },
  {
   "cell_type": "code",
   "execution_count": 1,
   "metadata": {},
   "outputs": [],
   "source": [
    "#!/usr/bin/python\n",
    "# -*- coding: UTF-8 -*-\n",
    "import os\n",
    "import cv2"
   ]
  },
  {
   "cell_type": "markdown",
   "metadata": {},
   "source": [
    "## `os.walk()`\n",
    "**小结**:  \n",
    "1)os.walk() 方法用于通过在目录树中游走输出在目录中的文件名，向上或者向下。  \n",
    "2)os.walk() 方法是一个简单易用的文件、目录遍历器，可以帮助我们高效的处理文件、目录方面的事情。"
   ]
  },
  {
   "cell_type": "code",
   "execution_count": 2,
   "metadata": {},
   "outputs": [
    {
     "name": "stdout",
     "output_type": "stream",
     "text": [
      "./Chapter23-包/copy包.ipynb\n",
      "./Chapter23-包/random包.ipynb\n",
      "./Chapter23-包/partial()偏函数.ipynb\n",
      "./Chapter23-包/Tqdm包.ipynb\n",
      "./Chapter23-包/collections包.ipynb\n",
      "./Chapter23-包/glob包.ipynb\n",
      "./Chapter23-包/YAML包.ipynb\n",
      "./Chapter23-包/README.md\n",
      "./chapter10-文件和异常/pi_digits.txt\n",
      "./chapter10-文件和异常/chapter10-文件和异常.ipynb\n",
      "./chapter10-文件和异常/.ipynb_checkpoints\n",
      "./Argparse教程/prog.py\n",
      "./Argparse教程/rm-unsed-function.patch\n",
      "./Argparse教程/README.md\n",
      "./.ipynb_checkpoints/chapter*-os文件-目录方法-checkpoint.ipynb\n",
      "./.ipynb_checkpoints/chapter04- 操作列表-checkpoint.ipynb\n",
      "./config/config.yaml\n",
      "./chapter22-内置函数/map()函数.ipynb\n",
      "./chapter22-内置函数/staticmethod()函数.ipynb\n",
      "./chapter22-内置函数/super()函数.ipynb\n",
      "./chapter22-内置函数/zip()函数.ipynb\n",
      "./chapter22-内置函数/sorted()函数.ipynb\n",
      "./chapter22-内置函数/README.md\n",
      "./chapter22-内置函数/int()函数.ipynb\n",
      "./hello_world.yaml\n",
      "./data.yaml\n",
      "./ZeroPadding.ipynb\n",
      "./chapter04- 操作列表.ipynb\n",
      "./reference.yaml\n",
      "./Python3列表.py\n",
      "./Python正则表达式.ipynb\n",
      "./array.yaml\n",
      "./Chapter08-函数.ipynb\n",
      "./chapter*-os文件-目录方法.ipynb\n",
      "./j.png\n",
      "./1.2-GuiFeaturesInOpenCV.py\n",
      "./chapter24-迭代器与生成器.ipynb\n",
      "./contours_test.py\n",
      "./Python基本语法.ipynb\n",
      "./chapter03-列表简介.ipynb\n",
      "./1.4.5-MorphologicalTransformations.py\n",
      "./items.yaml\n",
      "./Chapter23-包\n",
      "./chapter10-文件和异常\n",
      "./Argparse教程\n",
      "./.ipynb_checkpoints\n",
      "./config\n",
      "./chapter22-内置函数\n"
     ]
    }
   ],
   "source": [
    "for root, dirs, files in os.walk(\".\", topdown=False):\n",
    "    for name in files:\n",
    "        print(os.path.join(root, name))\n",
    "    for name in dirs:\n",
    "        print(os.path.join(root, name))"
   ]
  },
  {
   "cell_type": "code",
   "execution_count": 3,
   "metadata": {},
   "outputs": [
    {
     "ename": "TypeError",
     "evalue": "expected str, bytes or os.PathLike object, not builtin_function_or_method",
     "output_type": "error",
     "traceback": [
      "\u001b[0;31m---------------------------------------------------------------------------\u001b[0m",
      "\u001b[0;31mTypeError\u001b[0m                                 Traceback (most recent call last)",
      "\u001b[0;32m<ipython-input-3-ba9aba1d5ffb>\u001b[0m in \u001b[0;36m<module>\u001b[0;34m\u001b[0m\n\u001b[0;32m----> 1\u001b[0;31m \u001b[0;32mfor\u001b[0m \u001b[0mparent\u001b[0m\u001b[0;34m,\u001b[0m\u001b[0mdirnames\u001b[0m\u001b[0;34m,\u001b[0m\u001b[0mfilenames\u001b[0m \u001b[0;32min\u001b[0m \u001b[0mos\u001b[0m\u001b[0;34m.\u001b[0m\u001b[0mwalk\u001b[0m\u001b[0;34m(\u001b[0m\u001b[0mdir\u001b[0m\u001b[0;34m)\u001b[0m\u001b[0;34m:\u001b[0m\u001b[0;34m\u001b[0m\u001b[0;34m\u001b[0m\u001b[0m\n\u001b[0m\u001b[1;32m      2\u001b[0m     \u001b[0;32mfor\u001b[0m \u001b[0mfilename\u001b[0m \u001b[0;32min\u001b[0m \u001b[0mfilenames\u001b[0m\u001b[0;34m:\u001b[0m\u001b[0;34m\u001b[0m\u001b[0;34m\u001b[0m\u001b[0m\n\u001b[1;32m      3\u001b[0m         \u001b[0mos\u001b[0m\u001b[0;34m.\u001b[0m\u001b[0mpath\u001b[0m\u001b[0;34m.\u001b[0m\u001b[0mjoin\u001b[0m\u001b[0;34m(\u001b[0m\u001b[0mparent\u001b[0m\u001b[0;34m,\u001b[0m\u001b[0mfilename\u001b[0m\u001b[0;34m)\u001b[0m\u001b[0;34m\u001b[0m\u001b[0;34m\u001b[0m\u001b[0m\n\u001b[1;32m      4\u001b[0m         \u001b[0msave_path\u001b[0m\u001b[0;34m=\u001b[0m\u001b[0mos\u001b[0m\u001b[0;34m.\u001b[0m\u001b[0mpath\u001b[0m\u001b[0;34m.\u001b[0m\u001b[0mjoin\u001b[0m\u001b[0;34m(\u001b[0m\u001b[0;34m'   '\u001b[0m\u001b[0;34m,\u001b[0m\u001b[0mfilename\u001b[0m\u001b[0;34m)\u001b[0m\u001b[0;34m\u001b[0m\u001b[0;34m\u001b[0m\u001b[0m\n\u001b[1;32m      5\u001b[0m         \u001b[0mimg\u001b[0m\u001b[0;34m=\u001b[0m\u001b[0mcv2\u001b[0m\u001b[0;34m.\u001b[0m\u001b[0mimread\u001b[0m\u001b[0;34m(\u001b[0m\u001b[0mimg_path\u001b[0m\u001b[0;34m)\u001b[0m\u001b[0;34m\u001b[0m\u001b[0;34m\u001b[0m\u001b[0m\n",
      "\u001b[0;32m~/anaconda3/lib/python3.7/os.py\u001b[0m in \u001b[0;36mwalk\u001b[0;34m(top, topdown, onerror, followlinks)\u001b[0m\n\u001b[1;32m    334\u001b[0m \u001b[0;34m\u001b[0m\u001b[0m\n\u001b[1;32m    335\u001b[0m     \"\"\"\n\u001b[0;32m--> 336\u001b[0;31m     \u001b[0mtop\u001b[0m \u001b[0;34m=\u001b[0m \u001b[0mfspath\u001b[0m\u001b[0;34m(\u001b[0m\u001b[0mtop\u001b[0m\u001b[0;34m)\u001b[0m\u001b[0;34m\u001b[0m\u001b[0;34m\u001b[0m\u001b[0m\n\u001b[0m\u001b[1;32m    337\u001b[0m     \u001b[0mdirs\u001b[0m \u001b[0;34m=\u001b[0m \u001b[0;34m[\u001b[0m\u001b[0;34m]\u001b[0m\u001b[0;34m\u001b[0m\u001b[0;34m\u001b[0m\u001b[0m\n\u001b[1;32m    338\u001b[0m     \u001b[0mnondirs\u001b[0m \u001b[0;34m=\u001b[0m \u001b[0;34m[\u001b[0m\u001b[0;34m]\u001b[0m\u001b[0;34m\u001b[0m\u001b[0;34m\u001b[0m\u001b[0m\n",
      "\u001b[0;31mTypeError\u001b[0m: expected str, bytes or os.PathLike object, not builtin_function_or_method"
     ]
    }
   ],
   "source": [
    "for parent,dirnames,filenames in os.walk(dir):\n",
    "    for filename in filenames:\n",
    "        os.path.join(parent,filename)\n",
    "        save_path=os.path.join('   ',filename)\n",
    "        img=cv2.imread(img_path)\n",
    "        dim=(256,256)"
   ]
  },
  {
   "cell_type": "markdown",
   "metadata": {},
   "source": [
    "## `os.path`\n",
    "**说明**:模块主要用于获取文件的属性"
   ]
  },
  {
   "cell_type": "code",
   "execution_count": 4,
   "metadata": {},
   "outputs": [
    {
     "name": "stdout",
     "output_type": "stream",
     "text": [
      ".yaml hello_world.yaml\n",
      ".yaml data.yaml\n",
      " Chapter23-包\n",
      ".ipynb ZeroPadding.ipynb\n",
      ".ipynb chapter04- 操作列表.ipynb\n",
      ".yaml reference.yaml\n",
      ".py Python3列表.py\n",
      " chapter10-文件和异常\n",
      ".ipynb Python正则表达式.ipynb\n",
      ".yaml array.yaml\n",
      ".ipynb Chapter08-函数.ipynb\n",
      ".ipynb chapter*-os文件-目录方法.ipynb\n",
      " Argparse教程\n",
      ".png j.png\n"
     ]
    },
    {
     "ename": "NameError",
     "evalue": "name 'Image' is not defined",
     "output_type": "error",
     "traceback": [
      "\u001b[0;31m---------------------------------------------------------------------------\u001b[0m",
      "\u001b[0;31mNameError\u001b[0m                                 Traceback (most recent call last)",
      "\u001b[0;32m<ipython-input-4-5e1cc15afa96>\u001b[0m in \u001b[0;36m<module>\u001b[0;34m\u001b[0m\n\u001b[1;32m     24\u001b[0m         \u001b[0mprint\u001b[0m\u001b[0;34m(\u001b[0m\u001b[0mpostfix\u001b[0m\u001b[0;34m,\u001b[0m\u001b[0mi\u001b[0m\u001b[0;34m)\u001b[0m\u001b[0;34m\u001b[0m\u001b[0;34m\u001b[0m\u001b[0m\n\u001b[1;32m     25\u001b[0m         \u001b[0;32mif\u001b[0m \u001b[0mpostfix\u001b[0m \u001b[0;34m==\u001b[0m \u001b[0;34m'.jpg'\u001b[0m \u001b[0;32mor\u001b[0m \u001b[0mpostfix\u001b[0m \u001b[0;34m==\u001b[0m \u001b[0;34m'.png'\u001b[0m\u001b[0;34m:\u001b[0m\u001b[0;34m\u001b[0m\u001b[0;34m\u001b[0m\u001b[0m\n\u001b[0;32m---> 26\u001b[0;31m             \u001b[0mprocessImage\u001b[0m\u001b[0;34m(\u001b[0m\u001b[0minputPath\u001b[0m\u001b[0;34m,\u001b[0m \u001b[0moutputPath\u001b[0m\u001b[0;34m,\u001b[0m \u001b[0mi\u001b[0m\u001b[0;34m,\u001b[0m \u001b[0mpostfix\u001b[0m\u001b[0;34m)\u001b[0m\u001b[0;34m\u001b[0m\u001b[0;34m\u001b[0m\u001b[0m\n\u001b[0m",
      "\u001b[0;32m<ipython-input-4-5e1cc15afa96>\u001b[0m in \u001b[0;36mprocessImage\u001b[0;34m(filesource, destsource, name, imgtype)\u001b[0m\n\u001b[1;32m      8\u001b[0m     \u001b[0mimgtype\u001b[0m \u001b[0;34m=\u001b[0m \u001b[0;34m'jpeg'\u001b[0m \u001b[0;32mif\u001b[0m \u001b[0mimgtype\u001b[0m \u001b[0;34m==\u001b[0m \u001b[0;34m'.jpg'\u001b[0m \u001b[0;32melse\u001b[0m \u001b[0;34m'png'\u001b[0m\u001b[0;34m\u001b[0m\u001b[0;34m\u001b[0m\u001b[0m\n\u001b[1;32m      9\u001b[0m     \u001b[0;31m#打开图片\u001b[0m\u001b[0;34m\u001b[0m\u001b[0;34m\u001b[0m\u001b[0;34m\u001b[0m\u001b[0m\n\u001b[0;32m---> 10\u001b[0;31m     \u001b[0mim\u001b[0m \u001b[0;34m=\u001b[0m \u001b[0mImage\u001b[0m\u001b[0;34m.\u001b[0m\u001b[0mopen\u001b[0m\u001b[0;34m(\u001b[0m\u001b[0mname\u001b[0m\u001b[0;34m)\u001b[0m\u001b[0;34m\u001b[0m\u001b[0;34m\u001b[0m\u001b[0m\n\u001b[0m\u001b[1;32m     11\u001b[0m     \u001b[0;31m#缩放比例\u001b[0m\u001b[0;34m\u001b[0m\u001b[0;34m\u001b[0m\u001b[0;34m\u001b[0m\u001b[0m\n\u001b[1;32m     12\u001b[0m     \u001b[0mprint\u001b[0m\u001b[0;34m(\u001b[0m\u001b[0mim\u001b[0m\u001b[0;34m.\u001b[0m\u001b[0msize\u001b[0m\u001b[0;34m[\u001b[0m\u001b[0;36m0\u001b[0m\u001b[0;34m]\u001b[0m\u001b[0;34m)\u001b[0m\u001b[0;34m\u001b[0m\u001b[0;34m\u001b[0m\u001b[0m\n",
      "\u001b[0;31mNameError\u001b[0m: name 'Image' is not defined"
     ]
    }
   ],
   "source": [
    "def processImage(filesource, destsource, name, imgtype):\n",
    "    '''\n",
    "    filesource是存放待转换图片的目录\n",
    "    destsource是存放转换后图片的目录\n",
    "    name是文件名\n",
    "    imgtype是文件类型\n",
    "    '''\n",
    "    imgtype = 'jpeg' if imgtype == '.jpg' else 'png'\n",
    "    #打开图片\n",
    "    im = cv2.imread(name)\n",
    "    #缩放比例\n",
    "    print(im.size[0])\n",
    "    rate = max(im.size[0]/640.0 if im.size[0] > 640 else 0, im.size[1]/1136.0 if im.size[1] > 1136 else 0)\n",
    "    if rate:\n",
    "        im.thumbnail((im.size[0]/rate,im.size[1]/rate))\n",
    "    cv2.imwrite(destsource + name, imgtype)\n",
    "\n",
    "inputPath = './'\n",
    "outputPath = './output/'\n",
    "os.chdir(inputPath)\n",
    "for i in os.listdir(os.getcwd()):\n",
    "        #检查后缀\n",
    "        postfix = os.path.splitext(i)[1]\n",
    "        print(postfix,i)\n",
    "        if postfix == '.jpg' or postfix == '.png':\n",
    "            processImage(inputPath, outputPath, i, postfix)"
   ]
  },
  {
   "cell_type": "code",
   "execution_count": null,
   "metadata": {},
   "outputs": [],
   "source": [
    "os.chdir()"
   ]
  },
  {
   "cell_type": "code",
   "execution_count": null,
   "metadata": {},
   "outputs": [],
   "source": []
  }
 ],
 "metadata": {
  "kernelspec": {
   "display_name": "Python 3.7.4 64-bit ('base': conda)",
   "language": "python",
   "name": "python37464bitbasecondacb3ec4d305c44fe887804b43a376a3a9"
  },
  "language_info": {
   "codemirror_mode": {
    "name": "ipython",
    "version": 3
   },
   "file_extension": ".py",
   "mimetype": "text/x-python",
   "name": "python",
   "nbconvert_exporter": "python",
   "pygments_lexer": "ipython3",
   "version": "3.7.4"
  }
 },
 "nbformat": 4,
 "nbformat_minor": 2
}
