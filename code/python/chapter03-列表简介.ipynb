{
 "cells": [
  {
   "cell_type": "markdown",
   "metadata": {},
   "source": [
    "# 第3章 列表简介\n",
    "\n",
    "**总结**:  \n",
    "1)本章和下一章介绍了**列表是什么**,**如何使用列表元素**;  \n",
    "2)列表是新手可直接使用的最强大的Python功能之一,它融合了众多重要的编程概念."
   ]
  },
  {
   "cell_type": "markdown",
   "metadata": {},
   "source": [
    "## 3.1 列表是什么\n",
    "**Q**：列表是什么？\n",
    "\n",
    "**A**：列表由一系列按特定顺序排列的元素组成。\n",
    "\n",
    "**说明**：\n",
    "\n",
    "鉴于列表通常包含多个元素，给列表指定一个表示复数的名称（如letters 、digits 或names ）是个不错的主意)；\n",
    "\n",
    "\n",
    "**Q**：在Python中如何表示列表？\n",
    "\n",
    "**A**：在Python中，用方括号（[] ）来表示列表，并用逗号来分隔其中的元素。\n",
    "\n",
    "**Q**：如何表示列表里的字符串元素？\n",
    "\n",
    "**A**：记得给字符串元素加**单引号**''。"
   ]
  },
  {
   "cell_type": "code",
   "execution_count": 1,
   "metadata": {},
   "outputs": [],
   "source": [
    "names = ['Zhao', 'Qian', 'Sun', 'Li']\n",
    "print(names[0])\n",
    "print(names[1])\n",
    "print(names[2])"
   ]
  },
  {
   "cell_type": "code",
   "execution_count": 2,
   "metadata": {},
   "outputs": [],
   "source": [
    "names = ['Zhao', 'Qian', 'Sun', 'Li']\n",
    "print(\"My good friend's name is \" + names[0] + \".\") \n",
    "print(\"My good friend's name is \" + names[1] + \".\") \n",
    "print(\"My good friend's name is \" + names[2] + \".\") "
   ]
  },
  {
   "cell_type": "markdown",
   "metadata": {},
   "source": [
    "### 3.1.1 访问列表元素\n",
    "\n",
    "访问列表元素的方法是数组类似。"
   ]
  },
  {
   "cell_type": "code",
   "execution_count": 3,
   "metadata": {},
   "outputs": [],
   "source": [
    "bicycles = ['trek', 'cannondale', 'redline', 'specialized']\n",
    "print(bicycles[0])"
   ]
  },
  {
   "cell_type": "code",
   "execution_count": 4,
   "metadata": {},
   "outputs": [],
   "source": [
    "print(bicycles[0].title())"
   ]
  },
  {
   "cell_type": "markdown",
   "metadata": {},
   "source": [
    "### 3.1.2 索引从0而不是1开始\n",
    "\n",
    "除了标题的信息需要注意之外，通过将索引指定为-1，可让Python返回最后一个列表元素，-2、-3以此类推。"
   ]
  },
  {
   "cell_type": "code",
   "execution_count": 5,
   "metadata": {},
   "outputs": [],
   "source": [
    "print(bicycles[-1])"
   ]
  },
  {
   "cell_type": "markdown",
   "metadata": {},
   "source": [
    "### 3.1.3 使用列表中的各个值\n",
    "\n",
    "Q：如何打印字符串？\n",
    "\n",
    "A：\n",
    "\n",
    "1）使用双引号“”；\n",
    "\n",
    "2）使用加法符号+连接。"
   ]
  },
  {
   "cell_type": "code",
   "execution_count": 6,
   "metadata": {},
   "outputs": [],
   "source": [
    "message = \"My first bucycle was a \" + bicycles[0].title() + \"!\""
   ]
  },
  {
   "cell_type": "code",
   "execution_count": 7,
   "metadata": {},
   "outputs": [],
   "source": [
    "print(message)"
   ]
  },
  {
   "cell_type": "markdown",
   "metadata": {},
   "source": [
    "## 3.2 修改、添加和删除元素\n",
    "\n",
    "### 3.2.1 修改列表元素\n",
    "\n",
    "修改列表元素的本质是对该元素重新赋值。\n",
    "\n",
    "### 3.2.2 在列表中添加元素\n",
    "\n",
    "#### 1.在列表末尾添加元素\n",
    "\n",
    "使用`LIST.append()`的方法。\n",
    "\n",
    "#### 2.在列表中插入元素\n",
    "\n",
    "使用方法insert()可在列表的任何位置添加新元素。很显然插入元素需要指定新元素的索引和值。\n",
    "\n",
    "### 3.2.3 从列表中删除元素\n",
    "\n",
    "可以根据位置或值来删除列表中的元素。\n",
    "\n",
    "#### 1.使用del语句删除元素\n",
    "\n",
    "当我们需要删掉特定位置的元素时就可以使用`del`语句。\n",
    "\n",
    "#### 2.使用方法pop()删除元素\n",
    "\n",
    "当我们不仅要删除某个特定位置的元素，而且要使用该元素的值，这个时候就需要使用`pop`方法了。\n",
    "\n",
    "#### 3.弹出列表中任何位置处的元素\n",
    "\n",
    "可以通过`LIST.pop()`和索引的模式弹出列表中任何位置处的元素。\n",
    "\n",
    "#### 4.根据值删除元素\n",
    "\n",
    "使用方法`remove`来根据值删除元素。\n",
    "\n",
    "**说明**：方法`remove`只删除第一个指定的值。如果要删除的值可能在列表中出现多次，就需要使用循环来判断是否删除了所有这样的值。你将在第7章学习如何这样做。"
   ]
  },
  {
   "cell_type": "code",
   "execution_count": null,
   "metadata": {},
   "outputs": [],
   "source": []
  }
 ],
 "metadata": {
  "kernelspec": {
   "display_name": "Python 3",
   "language": "python",
   "name": "python3"
  },
  "language_info": {
   "codemirror_mode": {
    "name": "ipython",
    "version": 3
   },
   "file_extension": ".py",
   "mimetype": "text/x-python",
   "name": "python",
   "nbconvert_exporter": "python",
   "pygments_lexer": "ipython3",
   "version": "3.7.4"
  }
 },
 "nbformat": 4,
 "nbformat_minor": 2
}
