{
 "cells": [
  {
   "cell_type": "markdown",
   "metadata": {},
   "source": [
    "# 本章介绍关于Python的各种包\n",
    "**glob** \n",
    "**yaml**\n",
    "**functools**"
   ]
  },
  {
   "cell_type": "markdown",
   "metadata": {},
   "source": [
    "## glob包\n",
    "## 参考资料\n",
    "[1] python glob.glob使用https://blog.csdn.net/mantoureganmian/article/details/47949101"
   ]
  },
  {
   "cell_type": "code",
   "execution_count": 2,
   "metadata": {},
   "outputs": [],
   "source": [
    "from glob import glob"
   ]
  },
  {
   "cell_type": "markdown",
   "metadata": {},
   "source": [
    "**获取当前目录的列表**"
   ]
  },
  {
   "cell_type": "code",
   "execution_count": 3,
   "metadata": {},
   "outputs": [
    {
     "data": {
      "text/plain": [
       "['glob包.ipynb',\n",
       " 'Untitled.ipynb',\n",
       " 'README.md',\n",
       " 'Copy包.ipynb',\n",
       " 'Chapter23-包.ipynb']"
      ]
     },
     "execution_count": 3,
     "metadata": {},
     "output_type": "execute_result"
    }
   ],
   "source": [
    "glob(\"*\")"
   ]
  },
  {
   "cell_type": "markdown",
   "metadata": {},
   "source": [
    "**利用*进行模糊搜索**"
   ]
  },
  {
   "cell_type": "code",
   "execution_count": 5,
   "metadata": {},
   "outputs": [
    {
     "data": {
      "text/plain": [
       "['README.md']"
      ]
     },
     "execution_count": 5,
     "metadata": {},
     "output_type": "execute_result"
    }
   ],
   "source": [
    "glob(\"*.md\")"
   ]
  },
  {
   "cell_type": "markdown",
   "metadata": {},
   "source": [
    "**在绝对路经中查找**"
   ]
  },
  {
   "cell_type": "code",
   "execution_count": 4,
   "metadata": {},
   "outputs": [
    {
     "data": {
      "text/plain": [
       "['/boot/grub']"
      ]
     },
     "execution_count": 4,
     "metadata": {},
     "output_type": "execute_result"
    }
   ],
   "source": [
    "glob(\"/*/grub\")"
   ]
  },
  {
   "cell_type": "markdown",
   "metadata": {},
   "source": [
    "\"*\"和\"**\"的功能完全一样"
   ]
  },
  {
   "cell_type": "code",
   "execution_count": 5,
   "metadata": {},
   "outputs": [
    {
     "data": {
      "text/plain": [
       "['numpy-学习笔记/第2章-快速开始教程.md',\n",
       " 'numpy-学习笔记/第1章-设置.md',\n",
       " '参考资料/numpy-user-1.17.0.pdf',\n",
       " '参考资料/python3_tutorial.pdf',\n",
       " '参考资料/DiveIntoPython3.pdf',\n",
       " '参考资料/numpy-ref-1.17.0.pdf']"
      ]
     },
     "execution_count": 5,
     "metadata": {},
     "output_type": "execute_result"
    }
   ],
   "source": [
    "glob(\"*/*\")"
   ]
  },
  {
   "cell_type": "code",
   "execution_count": 6,
   "metadata": {},
   "outputs": [
    {
     "data": {
      "text/plain": [
       "['numpy-学习笔记/第2章-快速开始教程.md',\n",
       " 'numpy-学习笔记/第1章-设置.md',\n",
       " '参考资料/numpy-user-1.17.0.pdf',\n",
       " '参考资料/python3_tutorial.pdf',\n",
       " '参考资料/DiveIntoPython3.pdf',\n",
       " '参考资料/numpy-ref-1.17.0.pdf']"
      ]
     },
     "execution_count": 6,
     "metadata": {},
     "output_type": "execute_result"
    }
   ],
   "source": [
    "glob(\"**/**\")"
   ]
  },
  {
   "cell_type": "code",
   "execution_count": 7,
   "metadata": {},
   "outputs": [
    {
     "data": {
      "text/plain": [
       "['Python核心编程.pdf',\n",
       " 'Chapter03-列表简介.md',\n",
       " 'numpy-学习笔记',\n",
       " 'Chapter02-变量和简单数据类型.md',\n",
       " 'data.yaml',\n",
       " 'Python数据分析基础教程：NumPy学习指南（第2版）.pdf',\n",
       " 'Python学习手册(第4版).pdf',\n",
       " 'Chapter22-内置函数.ipynb',\n",
       " 'Chapter22-内置函数.md',\n",
       " 'Chapter09-类.md',\n",
       " 'Chapter08-函数.ipynb',\n",
       " 'README.md',\n",
       " 'items.yaml',\n",
       " '参考资料',\n",
       " 'Chapter23-包.ipynb',\n",
       " 'Python编程：从入门到实践.pdf']"
      ]
     },
     "execution_count": 7,
     "metadata": {},
     "output_type": "execute_result"
    }
   ],
   "source": [
    "glob(\"**\")"
   ]
  },
  {
   "cell_type": "code",
   "execution_count": 8,
   "metadata": {},
   "outputs": [
    {
     "data": {
      "text/plain": [
       "['Python核心编程.pdf',\n",
       " 'Chapter03-列表简介.md',\n",
       " 'numpy-学习笔记',\n",
       " 'Chapter02-变量和简单数据类型.md',\n",
       " 'data.yaml',\n",
       " 'Python数据分析基础教程：NumPy学习指南（第2版）.pdf',\n",
       " 'Python学习手册(第4版).pdf',\n",
       " 'Chapter22-内置函数.ipynb',\n",
       " 'Chapter22-内置函数.md',\n",
       " 'Chapter09-类.md',\n",
       " 'Chapter08-函数.ipynb',\n",
       " 'README.md',\n",
       " 'items.yaml',\n",
       " '参考资料',\n",
       " 'Chapter23-包.ipynb',\n",
       " 'Python编程：从入门到实践.pdf']"
      ]
     },
     "execution_count": 8,
     "metadata": {},
     "output_type": "execute_result"
    }
   ],
   "source": [
    "glob(\"*\")"
   ]
  },
  {
   "cell_type": "markdown",
   "metadata": {},
   "source": [
    "# yaml包\n",
    "Q:YAML包是什么?  \n",
    "A:YAML文件是参数配置文件,具有简单性,YAML包就是用来解析YAML文件的。\n",
    "## 参考资料\n",
    "[1] Python YAML tutorial http://zetcode.com/python/yaml/   \n",
    "\n",
    "[2] YAML 语言教程 https://www.ruanyifeng.com/blog/2016/07/yaml.html"
   ]
  },
  {
   "cell_type": "code",
   "execution_count": 1,
   "metadata": {},
   "outputs": [],
   "source": [
    "import yaml"
   ]
  },
  {
   "cell_type": "markdown",
   "metadata": {},
   "source": [
    "### Python YAML read"
   ]
  },
  {
   "cell_type": "code",
   "execution_count": 15,
   "metadata": {},
   "outputs": [
    {
     "name": "stdout",
     "output_type": "stream",
     "text": [
      "{'animal': 'pets'}\n"
     ]
    }
   ],
   "source": [
    "# YAML的HelloWorld\n",
    "# YAML对象的表示以及如何被Python使用\n",
    "with open('hello_world.yaml') as f:\n",
    "    \n",
    "    data = yaml.load(f, Loader=yaml.FullLoader)\n",
    "    print(data)"
   ]
  },
  {
   "cell_type": "code",
   "execution_count": 16,
   "metadata": {},
   "outputs": [
    {
     "name": "stdout",
     "output_type": "stream",
     "text": [
      "{'raincoat': 1, 'coins': 5, 'books': 23, 'spectacles': 2, 'chairs': 12, 'pens': 6}\n"
     ]
    }
   ],
   "source": [
    "# 多个YAML对象\n",
    "with open('items.yaml') as f:    \n",
    "    data = yaml.load(f, Loader=yaml.FullLoader)\n",
    "    print(data)"
   ]
  },
  {
   "cell_type": "markdown",
   "metadata": {},
   "source": [
    "### YAML数组"
   ]
  },
  {
   "cell_type": "code",
   "execution_count": 17,
   "metadata": {},
   "outputs": [
    {
     "name": "stdout",
     "output_type": "stream",
     "text": [
      "{'raincoat': 1, 'coins': 5, 'books': 23, 'spectacles': 2, 'chairs': 12, 'pens': 6}\n"
     ]
    }
   ],
   "source": [
    "with open('array.yaml') as f:\n",
    "    \n",
    "    data1 = yaml.load(f, Loader=yaml.FullLoader)\n",
    "    print(data)"
   ]
  },
  {
   "cell_type": "markdown",
   "metadata": {},
   "source": [
    "### 理解`pop`的使用\n",
    "pop就是弹出的意思"
   ]
  },
  {
   "cell_type": "code",
   "execution_count": 18,
   "metadata": {},
   "outputs": [
    {
     "data": {
      "text/plain": [
       "1"
      ]
     },
     "execution_count": 18,
     "metadata": {},
     "output_type": "execute_result"
    }
   ],
   "source": [
    "data.pop('raincoat')"
   ]
  },
  {
   "cell_type": "code",
   "execution_count": 19,
   "metadata": {},
   "outputs": [
    {
     "data": {
      "text/plain": [
       "2"
      ]
     },
     "execution_count": 19,
     "metadata": {},
     "output_type": "execute_result"
    }
   ],
   "source": [
    "data.pop('spectacles')"
   ]
  },
  {
   "cell_type": "code",
   "execution_count": 20,
   "metadata": {},
   "outputs": [
    {
     "name": "stdout",
     "output_type": "stream",
     "text": [
      "{'coins': 5, 'books': 23, 'chairs': 12, 'pens': 6}\n"
     ]
    }
   ],
   "source": [
    "print(data)"
   ]
  },
  {
   "cell_type": "code",
   "execution_count": 21,
   "metadata": {},
   "outputs": [],
   "source": [
    "dataOut0 = list(map(data.pop, ('coins', 'chairs')))"
   ]
  },
  {
   "cell_type": "code",
   "execution_count": 22,
   "metadata": {},
   "outputs": [
    {
     "name": "stdout",
     "output_type": "stream",
     "text": [
      "[5, 12]\n"
     ]
    }
   ],
   "source": [
    "print(dataOut0)"
   ]
  },
  {
   "cell_type": "code",
   "execution_count": 23,
   "metadata": {},
   "outputs": [
    {
     "name": "stdout",
     "output_type": "stream",
     "text": [
      "{'books': 23, 'pens': 6}\n"
     ]
    }
   ],
   "source": [
    "print(data)"
   ]
  },
  {
   "cell_type": "code",
   "execution_count": 24,
   "metadata": {},
   "outputs": [],
   "source": [
    "dataOut1 = list(map(data.pop, ('books', 'pens')))"
   ]
  },
  {
   "cell_type": "markdown",
   "metadata": {},
   "source": [
    "### Python YAML read documents"
   ]
  },
  {
   "cell_type": "code",
   "execution_count": 28,
   "metadata": {},
   "outputs": [
    {
     "name": "stdout",
     "output_type": "stream",
     "text": [
      "cities -> ['Bratislava', 'Kosice', 'Trnava', 'Moldava', 'Trencin']\n",
      "companies -> ['Eset', 'Slovnaft', 'Duslo Sala', 'Matador Puchov']\n"
     ]
    }
   ],
   "source": [
    "with open('data.yaml') as f:\n",
    "    \n",
    "    docs = yaml.load_all(f, Loader=yaml.FullLoader)\n",
    "\n",
    "    for doc in docs:\n",
    "        \n",
    "        for k, v in doc.items():\n",
    "            print(k, \"->\", v)"
   ]
  },
  {
   "cell_type": "markdown",
   "metadata": {},
   "source": [
    "### YAML引用"
   ]
  },
  {
   "cell_type": "code",
   "execution_count": 35,
   "metadata": {},
   "outputs": [
    {
     "name": "stdout",
     "output_type": "stream",
     "text": [
      "train -> {'files_a': 'HaHaHa!!!', 'files_b': 'HaHaHa!!!'}\n"
     ]
    }
   ],
   "source": [
    "with open('reference.yaml') as f:\n",
    "    \n",
    "    docs = yaml.load_all(f, Loader=yaml.FullLoader)\n",
    "\n",
    "    for doc in docs:\n",
    "        \n",
    "        for k, v in doc.items():\n",
    "            print(k, \"->\", v)"
   ]
  },
  {
   "cell_type": "markdown",
   "metadata": {},
   "source": [
    "## functools包\n",
    "### Python偏函数\n",
    "## 参考资料\n",
    "[1] [Python偏函数](https://www.runoob.com/w3cnote/python-partial.html)  \n",
    "[2] [Partial Functions in Python\n",
    "P](https://www.geeksforgeeks.org/partial-functions-python/)"
   ]
  },
  {
   "cell_type": "code",
   "execution_count": 28,
   "metadata": {},
   "outputs": [],
   "source": [
    "def mod(n, m):\n",
    "    return n % m"
   ]
  },
  {
   "cell_type": "code",
   "execution_count": 29,
   "metadata": {},
   "outputs": [],
   "source": [
    "mod_by_100 = partial(mod, 100)"
   ]
  },
  {
   "cell_type": "code",
   "execution_count": 30,
   "metadata": {},
   "outputs": [
    {
     "name": "stdout",
     "output_type": "stream",
     "text": [
      "2\n",
      "2\n"
     ]
    }
   ],
   "source": [
    "print(mod(100, 7))\n",
    "print(mod_by_100(7))"
   ]
  },
  {
   "cell_type": "code",
   "execution_count": 31,
   "metadata": {},
   "outputs": [],
   "source": [
    "bin2dec = partial(int, base = 2)"
   ]
  },
  {
   "cell_type": "code",
   "execution_count": 32,
   "metadata": {},
   "outputs": [
    {
     "name": "stdout",
     "output_type": "stream",
     "text": [
      "9\n",
      "17\n"
     ]
    }
   ],
   "source": [
    "print(bin2dec('0b1001'))\n",
    "print(bin2dec('10001'))"
   ]
  },
  {
   "cell_type": "code",
   "execution_count": 33,
   "metadata": {
    "scrolled": true
   },
   "outputs": [
    {
     "name": "stdout",
     "output_type": "stream",
     "text": [
      "103\n",
      "103\n"
     ]
    }
   ],
   "source": [
    "hex2dec = partial(int, base=16)\n",
    "print(hex2dec('0x67'))\n",
    "print(hex2dec('67'))"
   ]
  },
  {
   "cell_type": "code",
   "execution_count": 34,
   "metadata": {},
   "outputs": [
    {
     "name": "stdout",
     "output_type": "stream",
     "text": [
      "3145\n"
     ]
    }
   ],
   "source": [
    "# A normal function \n",
    "def f(a, b, c, x): \n",
    "    return 1000*a + 100*b + 10*c + x \n",
    "  \n",
    "# A partial function that calls f with \n",
    "# a as 3, b as 1 and c as 4. \n",
    "g = partial(f, 3, 1, 4) \n",
    "  \n",
    "# Calling g() \n",
    "print(g(5))"
   ]
  }
 ],
 "metadata": {
  "kernelspec": {
   "display_name": "Python 3",
   "language": "python",
   "name": "python3"
  },
  "language_info": {
   "codemirror_mode": {
    "name": "ipython",
    "version": 3
   },
   "file_extension": ".py",
   "mimetype": "text/x-python",
   "name": "python",
   "nbconvert_exporter": "python",
   "pygments_lexer": "ipython3",
   "version": "3.7.4"
  }
 },
 "nbformat": 4,
 "nbformat_minor": 2
}
